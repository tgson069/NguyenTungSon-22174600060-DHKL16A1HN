{
 "cells": [
  {
   "cell_type": "code",
   "execution_count": 1,
   "metadata": {},
   "outputs": [
    {
     "name": "stdout",
     "output_type": "stream",
     "text": [
      "ID của luồng đang thực thi trong chương trình chính: 2788\n",
      "Tên của luồng chính: MainThread\n",
      "Gắn tác vụ 1 đến luồng: t1\n",
      "ID của tiến trình chạy task 1: 2788\n",
      "Gắn tác vụ 1 đến luồng: t2\n",
      "ID của tiến trình chạy task 2: 2788\n"
     ]
    }
   ],
   "source": [
    "import threading\n",
    "import os\n",
    "def task1():\n",
    "    print(\"Gắn tác vụ 1 đến luồng: {}\".\n",
    "format(threading.current_thread().name))\n",
    "    print(\"ID của tiến trình chạy task 1: {}\".format(os.getpid()))\n",
    "def task2():\n",
    "    print(\"Gắn tác vụ 1 đến luồng: {}\".\n",
    "                     format(threading.current_thread().name))\n",
    "    print(\"ID của tiến trình chạy task 2: {}\".format(os.getpid()))\n",
    "if __name__ == \"__main__\":\n",
    "# In ra ID của luồng hiện thời\n",
    "    print(\"ID của luồng đang thực thi trong chương trình chính: {}\".\n",
    "                         format(os.getpid()))\n",
    "# in ra tên luồng chính\n",
    "    print(\"Tên của luồng chính: {}\".\n",
    "                         format(threading.current_thread().name))\n",
    "# Tạo các luồng\n",
    "    t1 = threading.Thread(target=task1, name='t1')\n",
    "    t2 = threading.Thread(target=task2, name='t2')\n",
    "# Bắt đầu các luồng:\n",
    "    t1.start()\n",
    "    t2.start()\n",
    "# Chờ cho đến khi các luồng kết thúc:\n",
    "    t1.join()\n",
    "    t2.join()"
   ]
  }
 ],
 "metadata": {
  "kernelspec": {
   "display_name": "Python 3",
   "language": "python",
   "name": "python3"
  },
  "language_info": {
   "codemirror_mode": {
    "name": "ipython",
    "version": 3
   },
   "file_extension": ".py",
   "mimetype": "text/x-python",
   "name": "python",
   "nbconvert_exporter": "python",
   "pygments_lexer": "ipython3",
   "version": "3.6.8"
  }
 },
 "nbformat": 4,
 "nbformat_minor": 2
}
