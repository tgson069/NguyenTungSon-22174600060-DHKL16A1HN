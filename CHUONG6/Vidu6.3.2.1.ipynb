{
 "cells": [
  {
   "cell_type": "code",
   "execution_count": 1,
   "metadata": {},
   "outputs": [
    {
     "name": "stdout",
     "output_type": "stream",
     "text": [
      "Square: 100\n",
      "Cube: 1000\n",
      "Main loop: 0\n",
      "Main loop: 1\n",
      "Main loop: 2\n",
      "Main loop: 3\n",
      "Main loop: 4\n",
      "Done!\n"
     ]
    }
   ],
   "source": [
    "# Khởi tạo luồng mới bằng pp kế thừa từ lớp thread\n",
    "import threading\n",
    "class PrintThread(threading.Thread):\n",
    "    def __init__(self, num):\n",
    "        super().__init__()\n",
    "        self.num = num\n",
    "    def run(self):\n",
    "        self.print_square()\n",
    "        self.print_cube()\n",
    "    def print_cube(self):\n",
    "        # function to print cube of given num\n",
    "        print(\"Cube: {}\".format(self.num * self.num * self.num))\n",
    "    def print_square(self):\n",
    "        # function to print square of given num\n",
    "        print(\"Square: {}\".format(self.num * self.num))\n",
    "if __name__ == \"__main__\":\n",
    "# creating thread\n",
    "    t = PrintThread(10)\n",
    "# start the thread\n",
    "    t.start()\n",
    "# wait until the thread finishes\n",
    "    t.join()\n",
    "# continue with the main loop\n",
    "    for i in range(5):\n",
    "        print(\"Main loop: {}\".format(i))\n",
    "    print(\"Done!\")"
   ]
  }
 ],
 "metadata": {
  "kernelspec": {
   "display_name": "Python 3",
   "language": "python",
   "name": "python3"
  },
  "language_info": {
   "codemirror_mode": {
    "name": "ipython",
    "version": 3
   },
   "file_extension": ".py",
   "mimetype": "text/x-python",
   "name": "python",
   "nbconvert_exporter": "python",
   "pygments_lexer": "ipython3",
   "version": "3.6.8"
  }
 },
 "nbformat": 4,
 "nbformat_minor": 2
}
