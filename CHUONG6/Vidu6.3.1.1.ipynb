{
 "cells": [
  {
   "cell_type": "code",
   "execution_count": 1,
   "metadata": {},
   "outputs": [
    {
     "name": "stdout",
     "output_type": "stream",
     "text": [
      "Đối số là:  10\n",
      "Đây là luồng đang chạy!!\n"
     ]
    }
   ],
   "source": [
    "#Tạo 1 luồng mới và thực thi hàm my_function\n",
    "import threading\n",
    "def my_function(arg):\n",
    "# Công việc của luồng\n",
    "     print(\"Đối số là: \",arg)\n",
    "     print(\"Đây là luồng đang chạy!!\")\n",
    "my_thread = threading.Thread(target=my_function, args=(10,))\n",
    "my_thread.start()"
   ]
  }
 ],
 "metadata": {
  "kernelspec": {
   "display_name": "Python 3",
   "language": "python",
   "name": "python3"
  },
  "language_info": {
   "codemirror_mode": {
    "name": "ipython",
    "version": 3
   },
   "file_extension": ".py",
   "mimetype": "text/x-python",
   "name": "python",
   "nbconvert_exporter": "python",
   "pygments_lexer": "ipython3",
   "version": "3.6.8"
  }
 },
 "nbformat": 4,
 "nbformat_minor": 2
}
