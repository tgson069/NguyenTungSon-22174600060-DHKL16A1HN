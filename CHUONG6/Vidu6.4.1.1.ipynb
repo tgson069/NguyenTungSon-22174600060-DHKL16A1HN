{
 "cells": [
  {
   "cell_type": "code",
   "execution_count": 3,
   "metadata": {},
   "outputs": [
    {
     "name": "stdout",
     "output_type": "stream",
     "text": [
      "Lần lặp 0: x = 200000\n",
      "Lần lặp 1: x = 200000\n",
      "Lần lặp 2: x = 200000\n",
      "Lần lặp 3: x = 200000\n",
      "Lần lặp 4: x = 200000\n",
      "Lần lặp 5: x = 200000\n",
      "Lần lặp 6: x = 200000\n",
      "Lần lặp 7: x = 200000\n",
      "Lần lặp 8: x = 200000\n",
      "Lần lặp 9: x = 200000\n"
     ]
    }
   ],
   "source": [
    "import threading\n",
    "# global variable x\n",
    "x = 0\n",
    "#Viết hàm increment(), tăng giá trị biến toàn cục x\n",
    "def increment():\n",
    "     global x\n",
    "     x += 1\n",
    "#Hàm theread_task() thực hiện tác vụ luồng, thực hiện gọi hàm\n",
    "# increment() 100000 lần.'''\n",
    "def thread_task():\n",
    "     for _ in range(100000):\n",
    "         increment()\n",
    "#Hàm main_task(): thực hiện nhiệm vụ chính của chương trình.\n",
    "#Nó đặt giá trị của biến toàn cục x=0, tạo hai luồng (t1 và t2)\n",
    "# để thực thi công việc trong thread_task().\n",
    "def main_task():\n",
    "     global x\n",
    "     x = 0\n",
    "# creating threads\n",
    "     t1 = threading.Thread(target=thread_task)\n",
    "     t2 = threading.Thread(target=thread_task)\n",
    "# start threads\n",
    "     t1.start()\n",
    "     t2.start()\n",
    "# wait until threads finish their job\n",
    "     t1.join()\n",
    "     t2.join()\n",
    "#Chương trình chạy vòng lặp 10 lần,\n",
    "#trong mỗi lần lặp gọi main_task() để thực hiện công việc.\n",
    "#Sau đó in giá trị x ở mỗi lần lặp ra màn hình.\n",
    "for i in range(10):\n",
    "     main_task()\n",
    "     print(\"Lần lặp {0}: x = {1}\".format(i, x))"
   ]
  }
 ],
 "metadata": {
  "kernelspec": {
   "display_name": "Python 3",
   "language": "python",
   "name": "python3"
  },
  "language_info": {
   "codemirror_mode": {
    "name": "ipython",
    "version": 3
   },
   "file_extension": ".py",
   "mimetype": "text/x-python",
   "name": "python",
   "nbconvert_exporter": "python",
   "pygments_lexer": "ipython3",
   "version": "3.6.8"
  }
 },
 "nbformat": 4,
 "nbformat_minor": 2
}
